{
 "cells": [
  {
   "cell_type": "markdown",
   "metadata": {},
   "source": [
    "# Classifying Yelp Reviews\n",
    "In this notebook, I am fitting a machine learning model to Yelp data in order to predict whether a given Yelp review is positive or negative based on its text and on other user's reactions to that review. In particular, I use Natural Language Processing (NLP) to represent each review as a vector in a feature space where each word represents its own dimension. Next, I derive a number of additional features from the text to be used as additional predictors. Finally, I train a multinomial naïve Bayes classifier on a set of labeled data and evaluate its efficacy by testing it on a separate set of data."
   ]
  },
  {
   "cell_type": "markdown",
   "metadata": {},
   "source": [
    "## Import Libraries"
   ]
  },
  {
   "cell_type": "code",
   "execution_count": 1,
   "metadata": {},
   "outputs": [],
   "source": [
    "import numpy as np\n",
    "import pandas as pd\n",
    "import matplotlib.pyplot as plt\n",
    "import seaborn as sns\n",
    "from datetime import datetime"
   ]
  },
  {
   "cell_type": "markdown",
   "metadata": {},
   "source": [
    "## Data\n",
    "The dataset comes from Kaggle. Each row in the dataset corresponds to a user's review of a restaurant on the Yelp app. The `stars` column corresponds to the rating that the user gave the restaurant. The `cool`, `useful`, and `funny` columns represent the different kinds of \"likes\" that the review, itself, received from other users on the app."
   ]
  },
  {
   "cell_type": "code",
   "execution_count": 2,
   "metadata": {},
   "outputs": [
    {
     "data": {
      "text/html": [
       "<div>\n",
       "<style scoped>\n",
       "    .dataframe tbody tr th:only-of-type {\n",
       "        vertical-align: middle;\n",
       "    }\n",
       "\n",
       "    .dataframe tbody tr th {\n",
       "        vertical-align: top;\n",
       "    }\n",
       "\n",
       "    .dataframe thead th {\n",
       "        text-align: right;\n",
       "    }\n",
       "</style>\n",
       "<table border=\"1\" class=\"dataframe\">\n",
       "  <thead>\n",
       "    <tr style=\"text-align: right;\">\n",
       "      <th></th>\n",
       "      <th>business_id</th>\n",
       "      <th>date</th>\n",
       "      <th>review_id</th>\n",
       "      <th>stars</th>\n",
       "      <th>text</th>\n",
       "      <th>type</th>\n",
       "      <th>user_id</th>\n",
       "      <th>cool</th>\n",
       "      <th>useful</th>\n",
       "      <th>funny</th>\n",
       "    </tr>\n",
       "  </thead>\n",
       "  <tbody>\n",
       "    <tr>\n",
       "      <th>0</th>\n",
       "      <td>9yKzy9PApeiPPOUJEtnvkg</td>\n",
       "      <td>2011-01-26</td>\n",
       "      <td>fWKvX83p0-ka4JS3dc6E5A</td>\n",
       "      <td>5</td>\n",
       "      <td>My wife took me here on my birthday for breakf...</td>\n",
       "      <td>review</td>\n",
       "      <td>rLtl8ZkDX5vH5nAx9C3q5Q</td>\n",
       "      <td>2</td>\n",
       "      <td>5</td>\n",
       "      <td>0</td>\n",
       "    </tr>\n",
       "    <tr>\n",
       "      <th>1</th>\n",
       "      <td>ZRJwVLyzEJq1VAihDhYiow</td>\n",
       "      <td>2011-07-27</td>\n",
       "      <td>IjZ33sJrzXqU-0X6U8NwyA</td>\n",
       "      <td>5</td>\n",
       "      <td>I have no idea why some people give bad review...</td>\n",
       "      <td>review</td>\n",
       "      <td>0a2KyEL0d3Yb1V6aivbIuQ</td>\n",
       "      <td>0</td>\n",
       "      <td>0</td>\n",
       "      <td>0</td>\n",
       "    </tr>\n",
       "    <tr>\n",
       "      <th>2</th>\n",
       "      <td>6oRAC4uyJCsJl1X0WZpVSA</td>\n",
       "      <td>2012-06-14</td>\n",
       "      <td>IESLBzqUCLdSzSqm0eCSxQ</td>\n",
       "      <td>4</td>\n",
       "      <td>love the gyro plate. Rice is so good and I als...</td>\n",
       "      <td>review</td>\n",
       "      <td>0hT2KtfLiobPvh6cDC8JQg</td>\n",
       "      <td>0</td>\n",
       "      <td>1</td>\n",
       "      <td>0</td>\n",
       "    </tr>\n",
       "    <tr>\n",
       "      <th>3</th>\n",
       "      <td>_1QQZuf4zZOyFCvXc0o6Vg</td>\n",
       "      <td>2010-05-27</td>\n",
       "      <td>G-WvGaISbqqaMHlNnByodA</td>\n",
       "      <td>5</td>\n",
       "      <td>Rosie, Dakota, and I LOVE Chaparral Dog Park!!...</td>\n",
       "      <td>review</td>\n",
       "      <td>uZetl9T0NcROGOyFfughhg</td>\n",
       "      <td>1</td>\n",
       "      <td>2</td>\n",
       "      <td>0</td>\n",
       "    </tr>\n",
       "    <tr>\n",
       "      <th>4</th>\n",
       "      <td>6ozycU1RpktNG2-1BroVtw</td>\n",
       "      <td>2012-01-05</td>\n",
       "      <td>1uJFq2r5QfJG_6ExMRCaGw</td>\n",
       "      <td>5</td>\n",
       "      <td>General Manager Scott Petello is a good egg!!!...</td>\n",
       "      <td>review</td>\n",
       "      <td>vYmM4KTsC8ZfQBg-j5MWkw</td>\n",
       "      <td>0</td>\n",
       "      <td>0</td>\n",
       "      <td>0</td>\n",
       "    </tr>\n",
       "  </tbody>\n",
       "</table>\n",
       "</div>"
      ],
      "text/plain": [
       "              business_id        date               review_id  stars  \\\n",
       "0  9yKzy9PApeiPPOUJEtnvkg  2011-01-26  fWKvX83p0-ka4JS3dc6E5A      5   \n",
       "1  ZRJwVLyzEJq1VAihDhYiow  2011-07-27  IjZ33sJrzXqU-0X6U8NwyA      5   \n",
       "2  6oRAC4uyJCsJl1X0WZpVSA  2012-06-14  IESLBzqUCLdSzSqm0eCSxQ      4   \n",
       "3  _1QQZuf4zZOyFCvXc0o6Vg  2010-05-27  G-WvGaISbqqaMHlNnByodA      5   \n",
       "4  6ozycU1RpktNG2-1BroVtw  2012-01-05  1uJFq2r5QfJG_6ExMRCaGw      5   \n",
       "\n",
       "                                                text    type  \\\n",
       "0  My wife took me here on my birthday for breakf...  review   \n",
       "1  I have no idea why some people give bad review...  review   \n",
       "2  love the gyro plate. Rice is so good and I als...  review   \n",
       "3  Rosie, Dakota, and I LOVE Chaparral Dog Park!!...  review   \n",
       "4  General Manager Scott Petello is a good egg!!!...  review   \n",
       "\n",
       "                  user_id  cool  useful  funny  \n",
       "0  rLtl8ZkDX5vH5nAx9C3q5Q     2       5      0  \n",
       "1  0a2KyEL0d3Yb1V6aivbIuQ     0       0      0  \n",
       "2  0hT2KtfLiobPvh6cDC8JQg     0       1      0  \n",
       "3  uZetl9T0NcROGOyFfughhg     1       2      0  \n",
       "4  vYmM4KTsC8ZfQBg-j5MWkw     0       0      0  "
      ]
     },
     "execution_count": 2,
     "metadata": {},
     "output_type": "execute_result"
    }
   ],
   "source": [
    "yelp = pd.read_csv('yelp.csv')\n",
    "yelp.head()"
   ]
  },
  {
   "cell_type": "markdown",
   "metadata": {},
   "source": [
    "To turn this into a binary classification problem, I'm going to only consider the reviews where users were either very satisfied (5 stars) or very unsatisfied (1 star)."
   ]
  },
  {
   "cell_type": "code",
   "execution_count": 3,
   "metadata": {},
   "outputs": [],
   "source": [
    "yelp = yelp[(yelp.stars == 1) | (yelp.stars == 5)]"
   ]
  },
  {
   "cell_type": "code",
   "execution_count": 4,
   "metadata": {},
   "outputs": [],
   "source": [
    "yelp.index = np.arange(0,4086)"
   ]
  },
  {
   "cell_type": "markdown",
   "metadata": {},
   "source": [
    "## Feature Engineering\n",
    "It would be nice to derive some more variables from the existing ones in the dataset. We're going to do so with the vectorization of the text, but even before then, there are a few improvements we can make."
   ]
  },
  {
   "cell_type": "markdown",
   "metadata": {},
   "source": [
    "In particular, we can pull out a word count. Maybe longer reviews tend to be more negative (or vice-versa)."
   ]
  },
  {
   "cell_type": "code",
   "execution_count": 5,
   "metadata": {},
   "outputs": [],
   "source": [
    "yelp['text_length'] = yelp['text'].apply(lambda x: len(x.split()))"
   ]
  },
  {
   "cell_type": "markdown",
   "metadata": {},
   "source": [
    "We can also use the `date` column to create a feature that describes whether or not a given review was written on a weekend. (Friday and Saturday are the busiest restaurant days, so that's what we'll consider to be the weekend.)"
   ]
  },
  {
   "cell_type": "code",
   "execution_count": 6,
   "metadata": {},
   "outputs": [],
   "source": [
    "def weekend_or_weekday(row):\n",
    "    wkday = datetime.strptime(row.date, \"%Y-%m-%d\").weekday()\n",
    "    return \"weekend\" if (wkday == 4) else \"weekday\""
   ]
  },
  {
   "cell_type": "code",
   "execution_count": 7,
   "metadata": {},
   "outputs": [],
   "source": [
    "yelp[\"weekend\"] = yelp.apply(weekend_or_weekday, axis=1)"
   ]
  },
  {
   "cell_type": "markdown",
   "metadata": {},
   "source": [
    "I'd like to create a variable to track the overall responses to a review, regardless of what that response was. I might not use this later, but it could be helpful to track."
   ]
  },
  {
   "cell_type": "code",
   "execution_count": 8,
   "metadata": {},
   "outputs": [],
   "source": [
    "yelp['likes'] = yelp.cool + yelp.useful + yelp.funny"
   ]
  },
  {
   "cell_type": "markdown",
   "metadata": {},
   "source": [
    "Lastly, I think we can pull out another characteristic of the review, itself. I think number of exclamation points would be an interesting one. I'll normalize by the length of the review."
   ]
  },
  {
   "cell_type": "code",
   "execution_count": 9,
   "metadata": {},
   "outputs": [],
   "source": [
    "yelp[\"excitement\"] = yelp.apply(lambda x: (len(x.text.split(\"!\")) - 1) / x.text_length, axis=1)"
   ]
  },
  {
   "cell_type": "code",
   "execution_count": 10,
   "metadata": {},
   "outputs": [
    {
     "data": {
      "text/plain": [
       "array(['Best pizza place ever!!!!!!!!!!!!!!'], dtype=object)"
      ]
     },
     "execution_count": 10,
     "metadata": {},
     "output_type": "execute_result"
    }
   ],
   "source": [
    "yelp[yelp[\"excitement\"] == max(yelp[\"excitement\"])].text.values"
   ]
  },
  {
   "cell_type": "markdown",
   "metadata": {},
   "source": [
    "Ha."
   ]
  },
  {
   "cell_type": "markdown",
   "metadata": {},
   "source": [
    "## Exploratory Data Analysis\n",
    "Before diving in with the modeling, I want to make sure that this dataset is amenable to machine learning techniques, explore possible opportunities for feature engineering, and get a better general understanding of its nuances."
   ]
  },
  {
   "cell_type": "markdown",
   "metadata": {},
   "source": [
    "Let's take a look at some of these reviews."
   ]
  },
  {
   "cell_type": "code",
   "execution_count": 11,
   "metadata": {},
   "outputs": [
    {
     "name": "stdout",
     "output_type": "stream",
     "text": [
      "Championship establishment here.\n",
      "\n",
      "I walked in with my significant other and was surprised at how busy it was on a Tuesday night. At first, it didn't click but the entire volleyball team from a nearby high school decided to come so it was extremely busy.\n",
      "\n",
      "They have some really good specials, but what really caught my eye was the specialty burgers that are $6. Big misunderstanding, most $6 are single patty and have some special toppings. Zipps decided to do a double-stacked specialtly burger. Yes, two 1/3 lb patties on a bun with some special toppings. We got two burgers and split them half and half, green chile burger and sweet jalapeno. Both were extremely awesome. You can get salad, fries, onion rings or half-half (half fries half onion rings). The fries kind of taste like In-n-Out fries, and my significant other would describe them as being better. I don't agree, and I don't disagree. Overall, good food, I can't wait to come back and try something else from their special menu. The $6 specialty burgers are available Tuesdays from 8-close and weekends from 11-4.\n",
      "\n",
      "The service was really awesome. They definitely cared about us and went out of their way to make sure we were doing okay. I think they felt guilty that we were there when a huge group was there as well. Apparently, they also were understaffed, but it honestly did not feel like it. Seriously though, it was some of the best service I've ever had at a Phoenix restaurant. To top it all off, the manager had checked up on us a few times, and at the end after we paid the bill he brought us a cookie platter (pizzookie, or cookie with ice cream).\n",
      "\n",
      "Now, I'm not a fan of pizzookie, but wow, their cookie platter was awesome. It wasn't on special that night, but I know its on special some other night and at $4 its probably worth a go again. Might I say one more thing about the cookie platter? It's just as good if not better than BJ's.\n",
      "\n",
      "I am actually excited to go here again. With some really good food specials almost any night, I think if I ever run out of ideas this might be the first place I think of. The food is a little greasy, but I think that is expected when you go to a sports grill. Want to lose 50 lbs, go to subway. Props to the owners for such an awesome establishment.\n",
      "\n",
      "\n",
      "I have now visited Herb n' Flavors several times. I love supporting local businesses who have sustainable practices. This place uses local farms for their produce, safe from GMO's and pesticides. So, I was already a fan before I walked in! Everything I have tried has been delicious, and the owner is such a cool guy- always so friendly to the customers. The food always tastes so fresh, and full of flavor! They have a little something for everyone. I am a gluten free vegan and my husband has no dietary restrictions. We always both leave happy. I definitely recommend this place. I would like to see their business continue to grow and stick around for a long time! :)\n",
      "\n",
      "\n",
      "Take your money elsewhere, unless you've got kids.  I really try to like this place.  A family member signed me up for the discount card, so I've been going more often, but I just don't love it.  It's simply ok, but the prices are outrageous.  And the sounds and animatronics are a huge distraction from the so-so food.  The cocktails are alright, but, again, the price is not right.  The ony thing fun about the place for an adult is the gift shop and the light-up cocktail glasses (which cost extra.)  I've seen a lot of happy families in here though, so I bet it's better if you have little ones to bring along.\n"
     ]
    }
   ],
   "source": [
    "print(yelp.text[905] + \"\\n\\n\\n\" + yelp.text[200] + \"\\n\\n\\n\" + yelp.text[51])"
   ]
  },
  {
   "cell_type": "markdown",
   "metadata": {},
   "source": [
    "I'm remembering now that not all of these reviews are for restaurants, so the `weekend` feature I came up with earlier might not be terribly helpful."
   ]
  },
  {
   "cell_type": "markdown",
   "metadata": {},
   "source": [
    "An important consideration for many models is how *balanced* the dataset is. There need to be sufficient positive and negative samples (high and low star reviews) to establish enough contrast for the model to distinguish between them. Let's check the distribution of reviews by star rating."
   ]
  },
  {
   "cell_type": "code",
   "execution_count": 12,
   "metadata": {},
   "outputs": [
    {
     "data": {
      "image/png": "[encoded data removed]",
      "text/plain": [
       "<Figure size 432x288 with 1 Axes>"
      ]
     },
     "metadata": {},
     "output_type": "display_data"
    }
   ],
   "source": [
    "sns.set_theme(style=\"white\")\n",
    "star_dist_ax = sns.countplot(data=yelp, x='stars', palette='rainbow')\n",
    "star_dist_ax.set_title(\"Distribution of Ratings\");"
   ]
  },
  {
   "cell_type": "code",
   "execution_count": 13,
   "metadata": {},
   "outputs": [
    {
     "name": "stdout",
     "output_type": "stream",
     "text": [
      "81.7% of the reviews in our dataset are 5 stars.\n"
     ]
    }
   ],
   "source": [
    "print(str(round(yelp.stars.value_counts(normalize=True).values[0]*100, 1)) + \"% of the reviews in our dataset are 5 stars.\")"
   ]
  },
  {
   "cell_type": "markdown",
   "metadata": {},
   "source": [
    "There appears to be a decent amount (700+ rows) of data on either end, though there are far more positive reviews than negative. As a result, we can expect our model to be biased towards predicting that any given review is positive. \n",
    "\n",
    "In fact, a model that classified every single review as a 5 star review would be 81.7% accurate, so that is the number to beat. This also means that classification accuracy is probably not a good performance measure. Instead, I'll be keeping an eye on the recall and precision scores for the 1 star category as well as the weighted f1 score averages.\n",
    "\n",
    "There are a few options to correct the inbalance in the dataset. Oversampling from the 1 star category is a good option since the dataset is not sufficiently large to undersample from the 5 star category. I can also penalize the model more for misclassifying negative reviews."
   ]
  },
  {
   "cell_type": "markdown",
   "metadata": {},
   "source": [
    "One assumption of the multinomial naïve Bayes model is that the variables are all independent from one another. This is a strong assumption (and is actually where the \"naïve\" comes from) because variable independence is uncommon in practice. However, this type of model has proven to be effective even with some correlation between variables. Let's see how badly we might be violating that assumption."
   ]
  },
  {
   "cell_type": "code",
   "execution_count": 14,
   "metadata": {},
   "outputs": [
    {
     "data": {
      "image/png": "[encoded data removed]",
      "text/plain": [
       "<Figure size 432x288 with 2 Axes>"
      ]
     },
     "metadata": {},
     "output_type": "display_data"
    }
   ],
   "source": [
    "hmap = sns.heatmap(data=yelp.corr(), cmap=\"coolwarm\");"
   ]
  },
  {
   "cell_type": "markdown",
   "metadata": {},
   "source": [
    "It appears that the different kinds of likes correlate with one another, which makes sense because highly rated reviews might get seen (and voted on) by more people. They also correlate with the consolidated `likes` feature as this is just their sum. "
   ]
  },
  {
   "cell_type": "markdown",
   "metadata": {},
   "source": [
    "## Count Vectorization\n",
    "In this step, I'll turn each review into a vector whose separate components represent each word used in the overall text corpus (all the reviews, together). This is known as the Bag-of-Words technique."
   ]
  },
  {
   "cell_type": "code",
   "execution_count": 15,
   "metadata": {},
   "outputs": [],
   "source": [
    "from sklearn.feature_extraction.text import CountVectorizer"
   ]
  },
  {
   "cell_type": "code",
   "execution_count": 16,
   "metadata": {},
   "outputs": [],
   "source": [
    "cv = CountVectorizer()"
   ]
  },
  {
   "cell_type": "code",
   "execution_count": 17,
   "metadata": {},
   "outputs": [],
   "source": [
    "vectorized_counts = cv.fit_transform(yelp[\"text\"])"
   ]
  },
  {
   "cell_type": "code",
   "execution_count": 18,
   "metadata": {},
   "outputs": [],
   "source": [
    "X = pd.DataFrame(vectorized_counts.toarray())"
   ]
  },
  {
   "cell_type": "code",
   "execution_count": 19,
   "metadata": {},
   "outputs": [],
   "source": [
    "X[\"text_length\"] = yelp.text_length\n",
    "X[\"likes\"] = yelp.likes\n",
    "X[\"excitement\"] = yelp.excitement"
   ]
  },
  {
   "cell_type": "markdown",
   "metadata": {},
   "source": [
    "## Train, Predict, and Evaluate\n",
    "Here, I will split the data into training and testing sets, train the naive bayes classifier on the training set, and evaluate it using the withheld testing set."
   ]
  },
  {
   "cell_type": "markdown",
   "metadata": {},
   "source": [
    "#### Split"
   ]
  },
  {
   "cell_type": "code",
   "execution_count": 21,
   "metadata": {},
   "outputs": [],
   "source": [
    "from sklearn.model_selection import train_test_split"
   ]
  },
  {
   "cell_type": "code",
   "execution_count": 22,
   "metadata": {},
   "outputs": [],
   "source": [
    "X_train, X_test, y_train, y_test = train_test_split(X, yelp.stars, test_size=0.2, random_state=99)"
   ]
  },
  {
   "cell_type": "markdown",
   "metadata": {},
   "source": [
    "#### Train"
   ]
  },
  {
   "cell_type": "code",
   "execution_count": 23,
   "metadata": {},
   "outputs": [],
   "source": [
    "from sklearn.naive_bayes import MultinomialNB"
   ]
  },
  {
   "cell_type": "code",
   "execution_count": 24,
   "metadata": {},
   "outputs": [
    {
     "data": {
      "text/plain": [
       "MultinomialNB()"
      ]
     },
     "execution_count": 24,
     "metadata": {},
     "output_type": "execute_result"
    }
   ],
   "source": [
    "nb_model = MultinomialNB()\n",
    "nb_model.fit(X_train, y_train)"
   ]
  },
  {
   "cell_type": "markdown",
   "metadata": {},
   "source": [
    "#### Predict"
   ]
  },
  {
   "cell_type": "code",
   "execution_count": 25,
   "metadata": {},
   "outputs": [],
   "source": [
    "prd = nb_model.predict(X_test)"
   ]
  },
  {
   "cell_type": "markdown",
   "metadata": {},
   "source": [
    "#### Evaluate"
   ]
  },
  {
   "cell_type": "code",
   "execution_count": 26,
   "metadata": {},
   "outputs": [],
   "source": [
    "from sklearn.metrics import classification_report"
   ]
  },
  {
   "cell_type": "code",
   "execution_count": 27,
   "metadata": {},
   "outputs": [
    {
     "name": "stdout",
     "output_type": "stream",
     "text": [
      "              precision    recall  f1-score   support\n",
      "\n",
      "           1       0.81      0.72      0.76       141\n",
      "           5       0.94      0.96      0.95       677\n",
      "\n",
      "    accuracy                           0.92       818\n",
      "   macro avg       0.88      0.84      0.86       818\n",
      "weighted avg       0.92      0.92      0.92       818\n",
      "\n"
     ]
    }
   ],
   "source": [
    "print(classification_report(y_test, prd))"
   ]
  },
  {
   "cell_type": "markdown",
   "metadata": {},
   "source": [
    "Okay, so the classifier was able to distinguish between 5 star and 1 star reviews to 92% accuracy.\n",
    "\n",
    "This definitely beats the 81.7% goal we had set. I'll be coming back through soon to try and improve that margin. I'd like to account for the imbalanced data as well as to try a few other models. I'd also like to account for the frequency of different words since I have not removed stopwords."
   ]
  }
 ],
 "metadata": {
  "kernelspec": {
   "display_name": "Python 3",
   "language": "python",
   "name": "python3"
  },
  "language_info": {
   "codemirror_mode": {
    "name": "ipython",
    "version": 3
   },
   "file_extension": ".py",
   "mimetype": "text/x-python",
   "name": "python",
   "nbconvert_exporter": "python",
   "pygments_lexer": "ipython3",
   "version": "3.6.12"
  }
 },
 "nbformat": 4,
 "nbformat_minor": 4
}
